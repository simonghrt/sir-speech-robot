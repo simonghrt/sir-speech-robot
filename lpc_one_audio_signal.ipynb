{
 "cells": [
  {
   "cell_type": "markdown",
   "metadata": {},
   "source": [
    "# Obtaining LPC (Linear Prediction Coefficients) for speech command"
   ]
  },
  {
   "cell_type": "code",
   "execution_count": 32,
   "metadata": {
    "inputHidden": false,
    "outputHidden": false
   },
   "outputs": [],
   "source": [
    "import wave\n",
    "import math\n",
    "import cmath\n",
    "import numpy as np\n",
    "import matplotlib.pyplot as plt\n",
    "from scipy import signal\n",
    "from scipy.io.wavfile import read\n",
    "\n",
    "\n",
    "%matplotlib inline"
   ]
  },
  {
   "cell_type": "markdown",
   "metadata": {},
   "source": [
    "## Première Étape"
   ]
  },
  {
   "cell_type": "markdown",
   "metadata": {},
   "source": [
    "### Plot préliminaire"
   ]
  },
  {
   "cell_type": "code",
   "execution_count": 33,
   "metadata": {},
   "outputs": [
    {
     "name": "stderr",
     "output_type": "stream",
     "text": [
      "/usr/lib/python3/dist-packages/ipykernel_launcher.py:5: DeprecationWarning: Numeric-style type codes are deprecated and will result in an error in the future.\n",
      "  \"\"\"\n"
     ]
    },
    {
     "data": {
      "image/png": "[encoded data removed]",
      "text/plain": [
       "<matplotlib.figure.Figure at 0x7f59804e2be0>"
      ]
     },
     "metadata": {},
     "output_type": "display_data"
    }
   ],
   "source": [
    "spf = wave.open('data/enavant.wav','r')\n",
    "\n",
    "#Extract Raw Audio from Wav File\n",
    "signal = spf.readframes(-1)\n",
    "signal = np.fromstring(signal, 'Int16')\n",
    "\n",
    "\n",
    "#If Stereo\n",
    "if spf.getnchannels() == 2:\n",
    "    print(\"Just mono files\")\n",
    "    sys.exit(0)\n",
    "\n",
    "plt.figure(1)\n",
    "plt.title('Signal Wave')\n",
    "plt.plot(signal)\n",
    "plt.show()"
   ]
  },
  {
   "cell_type": "markdown",
   "metadata": {},
   "source": [
    "### Fichier Wave avec la librairie standard (voir plutot partie avec scipy)"
   ]
  },
  {
   "cell_type": "code",
   "execution_count": 34,
   "metadata": {
    "inputHidden": false,
    "outputHidden": false
   },
   "outputs": [],
   "source": [
    "signal_wave = wave.open(\"data/enavant.wav\")"
   ]
  },
  {
   "cell_type": "markdown",
   "metadata": {},
   "source": [
    "On va prendre des trames de 30 millisecondes, on veut donc des trames de (0.030 * 16000 =) 480 bytes."
   ]
  },
  {
   "cell_type": "code",
   "execution_count": 35,
   "metadata": {
    "inputHidden": false,
    "outputHidden": false
   },
   "outputs": [],
   "source": [
    "def get_trames(signal, nbytes=480):\n",
    "    (nchannels, sampwidth, framerate, nframes, comptype, compname) = signal.getparams()\n",
    "    trames = []\n",
    "    signal.rewind()\n",
    "    while signal.tell() != nframes:\n",
    "        trame = signal.readframes(nbytes)\n",
    "        trames.append(trame)\n",
    "    return trames\n",
    "\n",
    "trames = get_trames(signal=signal_wave, nbytes=nbytes)"
   ]
  },
  {
   "cell_type": "markdown",
   "metadata": {},
   "source": [
    "On a fini la première étape, on a décomposé notre signal en 21 trames de quelques dizaines de millisecondes.\n",
    "\n",
    "Les 20 premières font 30 millisecondes, et la dernière est un peu plus courte."
   ]
  },
  {
   "cell_type": "markdown",
   "metadata": {},
   "source": [
    "### Utilisation de Scipy\n",
    "\n",
    "Evaluation toutes les 10ms avec une fenêtre de 30ms"
   ]
  },
  {
   "cell_type": "code",
   "execution_count": 36,
   "metadata": {},
   "outputs": [
    {
     "name": "stdout",
     "output_type": "stream",
     "text": [
      "63\n"
     ]
    }
   ],
   "source": [
    "signal_wave = wave.open(\"data/enavant.wav\")\n",
    "(nchannels, sampwidth, framerate, nframes, comptype, compname) = signal_wave.getparams()\n",
    "\n",
    "fe = framerate\n",
    "\n",
    "[fs, a] = read(\"data/enavant.wav\")\n",
    "sig_in = np.array(a)\n",
    "\n",
    "nbytes_fen = fs * 0.03 # 480\n",
    "nbytes_pas = fs * 0.01 # 160\n",
    "\n",
    "signals = []\n",
    "\n",
    "for i in np.arange(0, len(sig_in), 160, dtype=int):\n",
    "    signals.append(sig_in[i:i+480])\n",
    "    \n",
    "print(len(signals))"
   ]
  },
  {
   "cell_type": "markdown",
   "metadata": {},
   "source": [
    "### Obtenir les coefficients à l' aide des signaux"
   ]
  },
  {
   "cell_type": "markdown",
   "metadata": {},
   "source": [
    "Phi function (estimateur de la fonction d'autocorrélation du signal)"
   ]
  },
  {
   "cell_type": "code",
   "execution_count": 37,
   "metadata": {},
   "outputs": [],
   "source": [
    "def phi(signal, k_ind):\n",
    "    # phi est un estimateur de la fonction d'autocorrélation du signal\n",
    "    N = len(signal)\n",
    "    somme = 0\n",
    "    for i in range(0, N - k_ind):\n",
    "        somme += signal[i] * signal[i + k_ind]\n",
    "    return (somme / N)"
   ]
  },
  {
   "cell_type": "markdown",
   "metadata": {},
   "source": [
    "Algorithme pour un signal"
   ]
  },
  {
   "cell_type": "code",
   "execution_count": 38,
   "metadata": {},
   "outputs": [],
   "source": [
    "def params_signal(signal, K):\n",
    "\n",
    "    alpha = []\n",
    "    k = []\n",
    "    # a est un tableau de tableau (taille croissante)\n",
    "    a = []\n",
    "\n",
    "    alpha.append(phi(signal, 0))\n",
    "    if (phi(signal, 0) == 0):\n",
    "        if (phi(signal, 1) == 0):\n",
    "            k.append(0)\n",
    "        else:\n",
    "            print(\"Possible issue here\")\n",
    "            k.append(0)\n",
    "    else:\n",
    "        k.append(-phi(signal, 1) / phi(signal, 0))\n",
    "    a.append([-k[0]])\n",
    "\n",
    "    for n in range(1, K):\n",
    "        alpha_val = alpha[n-1] * (1 - (k[n-1]**2))\n",
    "        alpha.append(alpha_val)\n",
    "        sum_int = 0\n",
    "        for p in range(0, n):\n",
    "            sum_int += a[n-1][p] * phi(signal, n - p)\n",
    "        int_val = (phi(signal, n) - sum_int)\n",
    "        if (alpha_val == 0):\n",
    "            if (int_val == 0):\n",
    "                k.append(0)\n",
    "            else:\n",
    "                print(\"Possible issue here\")\n",
    "                k.append(0)\n",
    "        else:\n",
    "            k.append((-1/alpha_val) * int_val)\n",
    "        a_array = []\n",
    "        for q in range(0, n):\n",
    "            int_a_val = a[n-1][q] + k[n] * a[n-1][n-q-1]\n",
    "            a_array.append(int_a_val)\n",
    "        a_array.append( -k[n])\n",
    "        a.append(a_array)\n",
    "        \n",
    "    return (alpha, k, a)"
   ]
  },
  {
   "cell_type": "code",
   "execution_count": 39,
   "metadata": {},
   "outputs": [],
   "source": [
    "def dsp_calculation(signal, K, a, nu): \n",
    "    sum_sigma = 0\n",
    "    for i in range(0, K):\n",
    "        sum_sigma += a[K-1][i] * phi(signal, i)\n",
    "    sigma_e = phi(signal, 0) - sum_sigma\n",
    "    sum_den_dsp = 0\n",
    "    for j in range(0, K):\n",
    "        sum_den_dsp += a[K-1][j] * cmath.exp(2 * cmath.pi * nu * j * 1j)\n",
    "    den_dsp = (abs(1 - sum_den_dsp))**2\n",
    "    dsp = 0\n",
    "    if (den_dsp != 0 and sigma_e != 0):\n",
    "        dsp = sigma_e / den_dsp\n",
    "    return dsp"
   ]
  },
  {
   "cell_type": "code",
   "execution_count": 59,
   "metadata": {},
   "outputs": [
    {
     "name": "stderr",
     "output_type": "stream",
     "text": [
      "/usr/lib/python3/dist-packages/ipykernel_launcher.py:6: RuntimeWarning: overflow encountered in short_scalars\n",
      "  \n"
     ]
    },
    {
     "data": {
      "image/png": "[encoded data removed]",
      "text/plain": [
       "<matplotlib.figure.Figure at 0x7f5980390a20>"
      ]
     },
     "metadata": {},
     "output_type": "display_data"
    }
   ],
   "source": [
    "K = 10\n",
    "\n",
    "alpha_arr = []\n",
    "k_arr = []\n",
    "a_arr = []\n",
    "dsp_arr = []\n",
    "\n",
    "t = np.arange(0, 0.01 * len(signals), 0.01)\n",
    "f = range(0, 2000, 100)\n",
    "\n",
    "# Il faut boucler sur tous les échantillons de notre son (rappel, on a pris des fenêtres de 30ms)\n",
    "for i in range(0, len(signals)):\n",
    "    [alpha, k, a] = params_signal(signals[i], K)\n",
    "    alpha_arr.append(alpha)\n",
    "    k_arr.append(k)\n",
    "    a_arr.append(a)\n",
    "    dsp_int_arr = []\n",
    "    for j in f:\n",
    "        nu = j / fe\n",
    "        dsp = dsp_calculation(signals[i], K, a, nu)\n",
    "        dsp_int_arr.append(dsp) \n",
    "    dsp_arr.append(dsp_int_arr)\n",
    "\n",
    "plt.pcolormesh(f, t, dsp_arr)\n",
    "plt.title('STFT Magnitude')\n",
    "plt.ylabel('Time [sec]')\n",
    "plt.xlabel('Frequency [Hz]')\n",
    "plt.show()"
   ]
  },
  {
   "cell_type": "markdown",
   "metadata": {},
   "source": [
    "### Obtenir les coefficients à l'aide de AudioLazy"
   ]
  },
  {
   "cell_type": "code",
   "execution_count": 49,
   "metadata": {},
   "outputs": [],
   "source": [
    "def dsp_calculation_audiolazy(signal, K, a, nu): \n",
    "    sum_sigma = 0\n",
    "    for i in range(0, K):\n",
    "        sum_sigma += a[i] * phi(signal, i)\n",
    "    sigma_e = phi(signal, 0) - sum_sigma\n",
    "    sum_den_dsp = 0\n",
    "    for j in range(0, K):\n",
    "        sum_den_dsp += a[j] * cmath.exp(2 * cmath.pi * nu * j * 1j)\n",
    "    den_dsp = (abs(1 - sum_den_dsp))**2\n",
    "    dsp = 0\n",
    "    if (den_dsp != 0 and sigma_e != 0):\n",
    "        dsp = sigma_e / den_dsp\n",
    "    return dsp"
   ]
  },
  {
   "cell_type": "code",
   "execution_count": 60,
   "metadata": {},
   "outputs": [
    {
     "name": "stderr",
     "output_type": "stream",
     "text": [
      "/usr/local/lib/python3.5/dist-packages/audiolazy/lazy_analysis.py:307: RuntimeWarning: overflow encountered in short_scalars\n",
      "  return [sum(blk[n] * blk[n + tau] for n in xrange(len(blk) - tau))\n",
      "/usr/lib/python3/dist-packages/ipykernel_launcher.py:6: RuntimeWarning: overflow encountered in short_scalars\n",
      "  \n"
     ]
    },
    {
     "data": {
      "image/png": "[encoded data removed]",
      "text/plain": [
       "<matplotlib.figure.Figure at 0x7f59803f8b70>"
      ]
     },
     "metadata": {},
     "output_type": "display_data"
    }
   ],
   "source": [
    "from audiolazy import lazy_lpc as lpc\n",
    "\n",
    "K = 10\n",
    "\n",
    "a_arr = []\n",
    "dsp_arr = []\n",
    "\n",
    "t = np.arange(0, 0.01 * len(signals), 0.01)\n",
    "f = range(0, 2000, 100)\n",
    "\n",
    "# Il faut boucler sur tous les échantillons de notre son (rappel, on a pris des fenêtres de 30ms)\n",
    "for i in range(0, len(signals)):\n",
    "    filt = lpc.lpc.kautocor(signals[i], K)\n",
    "    # a = filt.numerator\n",
    "    a = lpc.lsf(filt)\n",
    "    a_arr.append(a)\n",
    "    dsp_int_arr = []\n",
    "    for j in f:\n",
    "        nu = j / fe\n",
    "        dsp = dsp_calculation_audiolazy(signals[i], K, a, nu)\n",
    "        dsp_int_arr.append(dsp)\n",
    "    dsp_arr.append(dsp_int_arr)\n",
    "\n",
    "plt.pcolormesh(f, t, dsp_arr)\n",
    "plt.title('STFT Magnitude')\n",
    "plt.ylabel('Time [sec]')\n",
    "plt.xlabel('Frequency [Hz]')\n",
    "plt.show()\n"
   ]
  }
 ],
 "metadata": {
  "kernel_info": {
   "name": "python3"
  },
  "kernelspec": {
   "display_name": "Python 3",
   "language": "python",
   "name": "python3"
  },
  "language_info": {
   "codemirror_mode": {
    "name": "ipython",
    "version": 3
   },
   "file_extension": ".py",
   "mimetype": "text/x-python",
   "name": "python",
   "nbconvert_exporter": "python",
   "pygments_lexer": "ipython3",
   "version": "3.5.2"
  },
  "nteract": {
   "version": "0.3.4"
  }
 },
 "nbformat": 4,
 "nbformat_minor": 4
}

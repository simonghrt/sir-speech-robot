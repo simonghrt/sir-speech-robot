{
  "cells": [
    {
      "cell_type": "markdown",
      "source": [
        "# Speech Command"
      ],
      "metadata": {}
    },
    {
      "cell_type": "code",
      "source": [
        "import wave\n",
        "import math\n",
        "import numpy as np\n",
        "import matplotlib.pyplot as plt\n",
        "from scipy import signal, fftpack\n",
        "from scipy.io.wavfile import read\n",
        "\n\n%matplotlib inline"
      ],
      "outputs": [],
      "execution_count": 1,
      "metadata": {
        "collapsed": false,
        "outputHidden": false,
        "inputHidden": false
      }
    },
    {
      "cell_type": "code",
      "source": [
        "folder = \"data/\""
      ],
      "outputs": [],
      "execution_count": 2,
      "metadata": {
        "collapsed": false,
        "outputHidden": false,
        "inputHidden": false
      }
    },
    {
      "cell_type": "code",
      "source": [
        "rossignol_set = []\n",
        "rossignol_set.append({\n",
        "    \"filename\": \"enavant.wav\",\n",
        "    \"class\": \"forward\",\n",
        "})\n",
        "rossignol_set.append({\n",
        "    \"filename\": \"enavant2.wav\",\n",
        "    \"class\": \"forward\",\n",
        "})\n",
        "rossignol_set.append({\n",
        "    \"filename\": \"enavant3.wav\",\n",
        "    \"class\": \"forward\",\n",
        "})\n",
        "rossignol_set.append({\n",
        "    \"filename\": \"adroite.wav\",\n",
        "    \"class\": \"right\",\n",
        "})\n",
        "rossignol_set.append({\n",
        "    \"filename\": \"adroite2.wav\",\n",
        "    \"class\": \"right\",\n",
        "})\n",
        "rossignol_set.append({\n",
        "    \"filename\": \"adroite3.wav\",\n",
        "    \"class\": \"right\",\n",
        "})\n",
        "rossignol_set.append({\n",
        "    \"filename\": \"agauche.wav\",\n",
        "    \"class\": \"left\",\n",
        "})\n",
        "rossignol_set.append({\n",
        "    \"filename\": \"agauche2.wav\",\n",
        "    \"class\": \"left\",\n",
        "})\n",
        "rossignol_set.append({\n",
        "    \"filename\": \"agauche3.wav\",\n",
        "    \"class\": \"left\",\n",
        "})\n",
        "rossignol_set.append({\n",
        "    \"filename\": \"stop.wav\",\n",
        "    \"class\": \"stop\",\n",
        "})\n",
        "rossignol_set.append({\n",
        "    \"filename\": \"stop2.wav\",\n",
        "    \"class\": \"stop\",\n",
        "})\n",
        "rossignol_set.append({\n",
        "    \"filename\": \"stop3.wav\",\n",
        "    \"class\": \"stop\",\n",
        "})"
      ],
      "outputs": [],
      "execution_count": 3,
      "metadata": {
        "collapsed": false,
        "outputHidden": true,
        "inputHidden": false,
        "outputExpanded": false
      }
    },
    {
      "cell_type": "code",
      "source": [
        "remi_set = []\n",
        "remi_set.append({\n",
        "    \"filename\": \"enavant_1_remi.wav\",\n",
        "    \"class\": \"forward\",\n",
        "})\n",
        "remi_set.append({\n",
        "    \"filename\": \"enavant_2_remi.wav\",\n",
        "    \"class\": \"forward\",\n",
        "})\n",
        "remi_set.append({\n",
        "    \"filename\": \"enavant_3_remi.wav\",\n",
        "    \"class\": \"forward\",\n",
        "})\n",
        "remi_set.append({\n",
        "    \"filename\": \"adroite_1_remi.wav\",\n",
        "    \"class\": \"right\",\n",
        "})\n",
        "remi_set.append({\n",
        "    \"filename\": \"adroite_2_remi.wav\",\n",
        "    \"class\": \"right\",\n",
        "})\n",
        "remi_set.append({\n",
        "    \"filename\": \"adroite_3_remi.wav\",\n",
        "    \"class\": \"right\",\n",
        "})\n",
        "remi_set.append({\n",
        "    \"filename\": \"agauche_1_remi.wav\",\n",
        "    \"class\": \"left\",\n",
        "})\n",
        "remi_set.append({\n",
        "    \"filename\": \"agauche_2_remi.wav\",\n",
        "    \"class\": \"left\",\n",
        "})\n",
        "remi_set.append({\n",
        "    \"filename\": \"agauche_3_remi.wav\",\n",
        "    \"class\": \"left\",\n",
        "})\n",
        "remi_set.append({\n",
        "    \"filename\": \"stop_1_remi.wav\",\n",
        "    \"class\": \"stop\",\n",
        "})\n",
        "remi_set.append({\n",
        "    \"filename\": \"stop_2_remi.wav\",\n",
        "    \"class\": \"stop\",\n",
        "})\n",
        "remi_set.append({\n",
        "    \"filename\": \"stop_3_remi.wav\",\n",
        "    \"class\": \"stop\",\n",
        "})"
      ],
      "outputs": [],
      "execution_count": 4,
      "metadata": {
        "collapsed": false,
        "outputHidden": false,
        "inputHidden": false
      }
    },
    {
      "cell_type": "code",
      "source": [
        "paul_set = []\n",
        "paul_set.append({\n",
        "    \"filename\": \"enavant_1_paul.wav\",\n",
        "    \"class\": \"forward\",\n",
        "})\n",
        "paul_set.append({\n",
        "    \"filename\": \"enavant_2_paul.wav\",\n",
        "    \"class\": \"forward\",\n",
        "})\n",
        "paul_set.append({\n",
        "    \"filename\": \"enavant_3_paul.wav\",\n",
        "    \"class\": \"forward\",\n",
        "})\n",
        "paul_set.append({\n",
        "    \"filename\": \"adroite_1_paul.wav\",\n",
        "    \"class\": \"right\",\n",
        "})\n",
        "paul_set.append({\n",
        "    \"filename\": \"adroite_2_paul.wav\",\n",
        "    \"class\": \"right\",\n",
        "})\n",
        "paul_set.append({\n",
        "    \"filename\": \"adroite_3_paul.wav\",\n",
        "    \"class\": \"right\",\n",
        "})\n",
        "paul_set.append({\n",
        "    \"filename\": \"agauche_1_paul.wav\",\n",
        "    \"class\": \"left\",\n",
        "})\n",
        "paul_set.append({\n",
        "    \"filename\": \"agauche_2_paul.wav\",\n",
        "    \"class\": \"left\",\n",
        "})\n",
        "paul_set.append({\n",
        "    \"filename\": \"agauche_3_paul.wav\",\n",
        "    \"class\": \"left\",\n",
        "})\n",
        "paul_set.append({\n",
        "    \"filename\": \"stop_1_paul.wav\",\n",
        "    \"class\": \"stop\",\n",
        "})\n",
        "paul_set.append({\n",
        "    \"filename\": \"stop_2_paul.wav\",\n",
        "    \"class\": \"stop\",\n",
        "})\n",
        "paul_set.append({\n",
        "    \"filename\": \"stop_3_paul.wav\",\n",
        "    \"class\": \"stop\",\n",
        "})"
      ],
      "outputs": [],
      "execution_count": 5,
      "metadata": {
        "collapsed": false,
        "outputHidden": false,
        "inputHidden": false
      }
    },
    {
      "cell_type": "code",
      "source": [
        "simon_set = []\n",
        "simon_set.append({\n",
        "    \"filename\": \"enavant_1_simon.wav\",\n",
        "    \"class\": \"forward\",\n",
        "})\n",
        "simon_set.append({\n",
        "    \"filename\": \"enavant_2_simon.wav\",\n",
        "    \"class\": \"forward\",\n",
        "})\n",
        "simon_set.append({\n",
        "    \"filename\": \"enavant_3_simon.wav\",\n",
        "    \"class\": \"forward\",\n",
        "})"
      ],
      "outputs": [],
      "execution_count": 6,
      "metadata": {
        "collapsed": false,
        "outputHidden": false,
        "inputHidden": false
      }
    },
    {
      "cell_type": "code",
      "source": [
        "def apply_preemphasis_filter(data_signal):\n",
        "    # Pre-Emphasis Filter\n",
        "    pre_emphasis = 0.95\n",
        "    emphasized_signal = np.append(data_signal[0], data_signal[1:] - pre_emphasis * data_signal[:-1])\n",
        "    return emphasized_signal"
      ],
      "outputs": [],
      "execution_count": 7,
      "metadata": {
        "collapsed": false,
        "outputHidden": false,
        "inputHidden": false
      }
    },
    {
      "cell_type": "code",
      "source": [
        "def apply_stft(data_signal, nperseg, overlap, fs, NFFT):\n",
        "    # FFT\n",
        "    window = 'hamming'\n",
        "    f, t, Zxx = signal.stft(x = data_signal, fs=fs, nperseg=nperseg, noverlap=overlap, nfft=NFFT, window=window)\n",
        "    return f, t, Zxx"
      ],
      "outputs": [],
      "execution_count": 8,
      "metadata": {
        "collapsed": false,
        "outputHidden": false,
        "inputHidden": false
      }
    },
    {
      "cell_type": "code",
      "source": [
        "def apply_filter_banks(Zxx, fs, NFFT):\n",
        "    # Filter Banks\n",
        "    nfilt = 40\n",
        "    low_freq_mel = 0\n",
        "    high_freq_mel = (2595 * np.log10(1 + (fs / 2) / 700))  # Convert Hz to Mel\n",
        "    mel_points = np.linspace(low_freq_mel, high_freq_mel, nfilt + 2)  # Equally spaced in Mel scale\n",
        "    hz_points = (700 * (10**(mel_points / 2595) - 1))  # Convert Mel to Hz\n",
        "    bin = np.floor((NFFT + 1) * hz_points / fs)\n",
        "\n",
        "    fbank = np.zeros((nfilt, int(np.floor(NFFT / 2 + 1))))\n",
        "    for m in range(1, nfilt + 1):\n",
        "        f_m_minus = int(bin[m - 1])   # left\n",
        "        f_m = int(bin[m])             # center\n",
        "        f_m_plus = int(bin[m + 1])    # right\n",
        "\n",
        "        for k in range(f_m_minus, f_m):\n",
        "            fbank[m - 1, k] = (k - bin[m - 1]) / (bin[m] - bin[m - 1])\n",
        "        for k in range(f_m, f_m_plus):\n",
        "            fbank[m - 1, k] = (bin[m + 1] - k) / (bin[m + 1] - bin[m])\n",
        "    filter_banks = np.dot(Zxx.T, fbank.T)\n",
        "    filter_banks = np.where(filter_banks == 0, np.finfo(float).eps, filter_banks)  # Numerical Stability\n",
        "    filter_banks = 20 * np.log10(filter_banks)  # dB\n",
        "    return filter_banks"
      ],
      "outputs": [],
      "execution_count": 9,
      "metadata": {
        "collapsed": false,
        "outputHidden": false,
        "inputHidden": false
      }
    },
    {
      "cell_type": "code",
      "source": [
        "def apply_mfcc(filter_banks):\n",
        "    # MFCC\n",
        "    num_ceps = 12\n",
        "    mfcc = fftpack.dct(filter_banks, type=2, axis=1, norm='ortho')[:, 1 : (num_ceps + 1)]\n",
        "    return mfcc"
      ],
      "outputs": [],
      "execution_count": 10,
      "metadata": {
        "collapsed": false,
        "outputHidden": false,
        "inputHidden": false
      }
    },
    {
      "cell_type": "code",
      "source": [
        "def process_file(filename):\n",
        "    [fs, a] = read(filename)\n",
        "    nperseg = math.floor(fs*2/100)\n",
        "    overlap = math.floor(nperseg/2)\n",
        "    NFFT = 2*nperseg\n",
        "    data_signal = np.array(a,dtype=float)\n",
        "    data_signal = apply_preemphasis_filter(data_signal)\n",
        "    f, t, Zxx = apply_stft(data_signal, nperseg, overlap, fs, NFFT)\n",
        "    filter_banks = apply_filter_banks(Zxx, fs, NFFT)\n",
        "    mfcc = apply_mfcc(filter_banks)\n",
        "    return mfcc"
      ],
      "outputs": [],
      "execution_count": 11,
      "metadata": {
        "collapsed": false,
        "outputHidden": false,
        "inputHidden": false
      }
    },
    {
      "cell_type": "code",
      "source": [
        "def altDTWDistance(s1, s2,w):\n",
        "    DTW={}\n",
        "\n",
        "    w = max(w, abs(len(s1)-len(s2)))\n",
        "\n",
        "    for i in range(-1,len(s1)):\n",
        "        for j in range(-1,len(s2)):\n",
        "            DTW[(i, j)] = float('inf')\n",
        "    DTW[(-1, -1)] = 0\n",
        "\n",
        "    for i in range(len(s1)):\n",
        "        for j in range(max(0, i-w), min(len(s2), i+w)):\n",
        "            dist= np.sqrt(sum(np.abs((s1[i]-s2[j])**2)))\n",
        "            DTW[(i, j)] = dist + min(DTW[(i-1, j)],DTW[(i, j-1)], DTW[(i-1, j-1)])\n",
        "\n    return DTW[len(s1)-1, len(s2)-1]"
      ],
      "outputs": [],
      "execution_count": 12,
      "metadata": {
        "collapsed": false,
        "outputHidden": false,
        "inputHidden": false
      }
    },
    {
      "cell_type": "code",
      "source": [
        "def DTWDistance(s1, s2):\n",
        "    DTW={}\n",
        "\n",
        "    for i in range(len(s1)):\n",
        "        DTW[(i, -1)] = float('inf')\n",
        "    for i in range(len(s2)):\n",
        "        DTW[(-1, i)] = float('inf')\n",
        "    DTW[(-1, -1)] = 0\n",
        "\n",
        "    for i in range(len(s1)):\n",
        "        for j in range(len(s2)):\n",
        "            dist= np.sqrt(sum(np.abs((s1[i]-s2[j]))**2))\n",
        "            DTW[(i, j)] = dist + min(DTW[(i-1, j)],DTW[(i, j-1)], DTW[(i-1, j-1)])\n",
        "\n    return DTW[len(s1)-1, len(s2)-1]"
      ],
      "outputs": [],
      "execution_count": 13,
      "metadata": {
        "collapsed": false,
        "outputHidden": false,
        "inputHidden": false
      }
    },
    {
      "cell_type": "code",
      "source": [
        "def diff_mfcc(s1, s2):\n",
        "    diff = []\n",
        "    for i in range(0, min(len(s1), len(s2))):\n",
        "        current_diff = s1[i] - s2[i]\n",
        "        diff.append(current_diff)\n",
        "    plt.pcolormesh(np.real(diff))\n",
        "    plt.show()"
      ],
      "outputs": [],
      "execution_count": 14,
      "metadata": {
        "collapsed": false,
        "outputHidden": false,
        "inputHidden": false
      }
    },
    {
      "cell_type": "code",
      "source": [
        "def get_k_nn(distance, k):\n",
        "    classes = [0, 0, 0, 0]\n",
        "    for i in range(k):\n",
        "        minDistidx = -1\n",
        "        minDist = {'dist': 1000000000}\n",
        "        for j in range(len(distance)):\n",
        "            dist = distance[j]['dtw']\n",
        "            if dist == 0:\n",
        "                continue\n",
        "            elif dist < minDist.get('dist'):\n",
        "                minDist = {'dist': dist, 'class': distance[j]['class'], 'idx': j}\n",
        "        distance.pop(minDist.get('idx'))\n",
        "        if minDist.get('class') == 'forward':\n",
        "            classes[0] = classes[0] + 1\n",
        "        elif minDist.get('class') == 'right':\n",
        "            classes[1] = classes[1] + 1\n",
        "        elif minDist.get('class') == 'left':\n",
        "            classes[2] = classes[2] + 1\n",
        "        elif minDist.get('class') == 'stop':\n",
        "            classes[3] = classes[3] + 1\n",
        "    return classes"
      ],
      "outputs": [],
      "execution_count": 15,
      "metadata": {
        "collapsed": false,
        "outputHidden": false,
        "inputHidden": false
      }
    },
    {
      "cell_type": "code",
      "source": [
        "def compute_set(folder, files):\n",
        "    for fileIdx in range(len(files)):\n",
        "        filename = files[fileIdx].get('filename')\n",
        "        mfcc = process_file(folder + filename)\n",
        "        files[fileIdx]['mfcc'] = mfcc\n",
        "    return files"
      ],
      "outputs": [],
      "execution_count": 16,
      "metadata": {
        "collapsed": false,
        "outputHidden": false,
        "inputHidden": false
      }
    },
    {
      "cell_type": "code",
      "source": [
        "def test_set_to_reference(test_set, reference_set, verbose=False):\n",
        "    good_predictions = [0,0,0,0]\n",
        "    for fileIdx1 in range(len(test_set)):\n",
        "        file1 = test_set[fileIdx1]\n",
        "        dtw_distance = []\n",
        "        for fileIdx2 in range(len(reference_set)):\n",
        "            file2 = reference_set[fileIdx2]\n",
        "            dtw_distance.append({'class': file2.get('class'), 'dtw': altDTWDistance(file1.get('mfcc'), file2.get('mfcc'), 15)})\n",
        "        if verbose:\n",
        "            print(file1.get('filename') + ':')\n",
        "        classes = get_k_nn(dtw_distance, 1)\n",
        "        if(max(classes) == classes[0]):\n",
        "            if(file1.get('class') == 'forward'):\n",
        "                if verbose:\n",
        "                    print('TRUE')\n",
        "                good_predictions[0] += 1\n",
        "            else:\n",
        "                if verbose:\n",
        "                    print('FALSE')\n",
        "            test_set[fileIdx1]['prediction'] = 'forward'\n",
        "        elif(max(classes) == classes[1]):\n",
        "            if(file1.get('class') == 'right'):\n",
        "                if verbose:\n",
        "                    print('TRUE')\n",
        "                good_predictions[1] += 1\n",
        "            else:\n",
        "                if verbose:\n",
        "                    print('FALSE')\n",
        "            test_set[fileIdx1]['prediction'] = 'right'\n",
        "        elif(max(classes) == classes[2]):\n",
        "            if(file1.get('class') == 'left'):\n",
        "                if verbose:\n",
        "                    print('TRUE')\n",
        "                good_predictions[2] += 1\n",
        "            else:\n",
        "                if verbose:\n",
        "                    print('FALSE')\n",
        "            test_set[fileIdx1]['prediction'] = 'left'\n",
        "        elif(max(classes) == classes[3]):\n",
        "            if(file1.get('class') == 'stop'):\n",
        "                if verbose:\n",
        "                    print('TRUE')\n",
        "                good_predictions[3] += 1\n",
        "            else:\n",
        "                if verbose:\n",
        "                    print('FALSE')\n",
        "            test_set[fileIdx1]['prediction'] = 'stop'   \n",
        "        if verbose:\n",
        "            print(classes)\n",
        "    print('\\nGood Predictions:')\n",
        "    print(good_predictions)\n",
        "    print('\\nAccuracy:')\n",
        "    print(str(math.floor(sum(good_predictions)/(len(test_set))*100)) + '%')\n",
        "    return test_set"
      ],
      "outputs": [],
      "execution_count": 17,
      "metadata": {
        "collapsed": false,
        "outputHidden": false,
        "inputHidden": false
      }
    },
    {
      "cell_type": "code",
      "source": [
        "# Evaluate the dataset over itself\n",
        "reference_set = rossignol_set + remi_set + paul_set\n",
        "reference_set = compute_set(folder=folder, files=reference_set)\n",
        "reference_set = test_set_to_reference(test_set=reference_set, reference_set=reference_set, verbose=False)"
      ],
      "outputs": [
        {
          "output_type": "stream",
          "name": "stdout",
          "text": [
            "\n",
            "Good Predictions:\n",
            "[9, 6, 8, 8]\n",
            "\n",
            "Accuracy:\n",
            "86%\n"
          ]
        }
      ],
      "execution_count": 18,
      "metadata": {
        "collapsed": false,
        "outputHidden": false,
        "inputHidden": false
      }
    },
    {
      "cell_type": "code",
      "source": [
        "# Test Rémi\n",
        "reference_set = compute_set(folder=folder, files=paul_set+rossignol_set)\n",
        "test_set = compute_set(folder=folder, files=remi_set)\n",
        "test_set = test_set_to_reference(test_set=test_set, reference_set=reference_set, verbose=False)"
      ],
      "outputs": [
        {
          "output_type": "stream",
          "name": "stdout",
          "text": [
            "\n",
            "Good Predictions:\n",
            "[3, 3, 3, 3]\n",
            "\n",
            "Accuracy:\n",
            "100%\n"
          ]
        }
      ],
      "execution_count": 19,
      "metadata": {
        "collapsed": false,
        "outputHidden": false,
        "inputHidden": false
      }
    },
    {
      "cell_type": "code",
      "source": [
        "# Test Paul\n",
        "reference_set = compute_set(folder=folder, files=remi_set+rossignol_set)\n",
        "test_set = compute_set(folder=folder, files=paul_set)\n",
        "test_set = test_set_to_reference(test_set=test_set, reference_set=reference_set, verbose=False)"
      ],
      "outputs": [
        {
          "output_type": "stream",
          "name": "stdout",
          "text": [
            "\n",
            "Good Predictions:\n",
            "[3, 3, 3, 3]\n",
            "\n",
            "Accuracy:\n",
            "100%\n"
          ]
        }
      ],
      "execution_count": 20,
      "metadata": {
        "collapsed": false,
        "outputHidden": false,
        "inputHidden": false
      }
    }
  ],
  "metadata": {
    "kernelspec": {
      "name": "python3",
      "language": "python",
      "display_name": "Python 3"
    },
    "kernel_info": {
      "name": "python3"
    },
    "language_info": {
      "name": "python",
      "version": "3.6.2",
      "mimetype": "text/x-python",
      "codemirror_mode": {
        "name": "ipython",
        "version": 3
      },
      "pygments_lexer": "ipython3",
      "nbconvert_exporter": "python",
      "file_extension": ".py"
    },
    "nteract": {
      "version": "0.3.4"
    }
  },
  "nbformat": 4,
  "nbformat_minor": 4
}
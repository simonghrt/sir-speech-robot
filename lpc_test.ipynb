{
 "cells": [
  {
   "cell_type": "markdown",
   "metadata": {},
   "source": [
    "# Obtaining LPC (Linear Prediction Coefficients) for speech command"
   ]
  },
  {
   "cell_type": "code",
   "execution_count": 49,
   "metadata": {
    "inputHidden": false,
    "outputHidden": false
   },
   "outputs": [],
   "source": [
    "import wave\n",
    "import math\n",
    "import cmath\n",
    "import numpy as np\n",
    "import matplotlib.pyplot as plt\n",
    "from scipy import signal\n",
    "from scipy.io.wavfile import read\n",
    "\n",
    "\n",
    "%matplotlib inline"
   ]
  },
  {
   "cell_type": "markdown",
   "metadata": {},
   "source": [
    "## Première Étape"
   ]
  },
  {
   "cell_type": "markdown",
   "metadata": {},
   "source": [
    "### Plot préliminaire"
   ]
  },
  {
   "cell_type": "code",
   "execution_count": 50,
   "metadata": {},
   "outputs": [
    {
     "name": "stderr",
     "output_type": "stream",
     "text": [
      "/usr/lib/python3/dist-packages/ipykernel_launcher.py:5: DeprecationWarning: Numeric-style type codes are deprecated and will result in an error in the future.\n",
      "  \"\"\"\n"
     ]
    },
    {
     "data": {
      "image/png": "[encoded data removed]",
      "text/plain": [
       "<matplotlib.figure.Figure at 0x7fa468dea630>"
      ]
     },
     "metadata": {},
     "output_type": "display_data"
    }
   ],
   "source": [
    "spf = wave.open('test3/enavant.wav','r')\n",
    "\n",
    "#Extract Raw Audio from Wav File\n",
    "signal = spf.readframes(-1)\n",
    "signal = np.fromstring(signal, 'Int16')\n",
    "\n",
    "\n",
    "#If Stereo\n",
    "if spf.getnchannels() == 2:\n",
    "    print(\"Just mono files\")\n",
    "    sys.exit(0)\n",
    "\n",
    "plt.figure(1)\n",
    "plt.title('Signal Wave')\n",
    "plt.plot(signal)\n",
    "plt.show()"
   ]
  },
  {
   "cell_type": "markdown",
   "metadata": {},
   "source": [
    "### Fichier Wave avec la librairie standard (voir plutot partie avec scipy)"
   ]
  },
  {
   "cell_type": "code",
   "execution_count": 51,
   "metadata": {
    "inputHidden": false,
    "outputHidden": false
   },
   "outputs": [],
   "source": [
    "signal_wave = wave.open(\"test3/enavant.wav\")"
   ]
  },
  {
   "cell_type": "markdown",
   "metadata": {},
   "source": [
    "On veut découper notre signal en trames de quelques dizaines de millisecondes."
   ]
  },
  {
   "cell_type": "code",
   "execution_count": 52,
   "metadata": {
    "inputHidden": false,
    "outputHidden": false
   },
   "outputs": [
    {
     "name": "stdout",
     "output_type": "stream",
     "text": [
      "16000\n"
     ]
    }
   ],
   "source": [
    "(nchannels, sampwidth, framerate, nframes, comptype, compname) = signal_wave.getparams()\n",
    "\n",
    "print(framerate)"
   ]
  },
  {
   "cell_type": "markdown",
   "metadata": {},
   "source": [
    "On va prendre des trames de 30 millisecondes, on veut donc des trames de (0.030 * 16000 =) 480 bytes."
   ]
  },
  {
   "cell_type": "code",
   "execution_count": 53,
   "metadata": {
    "inputHidden": false,
    "outputHidden": false
   },
   "outputs": [
    {
     "name": "stdout",
     "output_type": "stream",
     "text": [
      "20.9875\n"
     ]
    }
   ],
   "source": [
    "nbytes = 480\n",
    "ntrames = nframes/nbytes\n",
    "print(ntrames)"
   ]
  },
  {
   "cell_type": "code",
   "execution_count": 54,
   "metadata": {
    "inputHidden": false,
    "outputHidden": false
   },
   "outputs": [],
   "source": [
    "def get_trames(signal, nbytes=480):\n",
    "    (nchannels, sampwidth, framerate, nframes, comptype, compname) = signal.getparams()\n",
    "    trames = []\n",
    "    signal.rewind()\n",
    "    while signal.tell() != nframes:\n",
    "        trame = signal.readframes(nbytes)\n",
    "        trames.append(trame)\n",
    "    return trames\n",
    "\n",
    "trames = get_trames(signal=signal_wave, nbytes=nbytes)"
   ]
  },
  {
   "cell_type": "markdown",
   "metadata": {},
   "source": [
    "On a fini la première étape, on a décomposé notre signal en 21 trames de quelques dizaines de millisecondes.\n",
    "\n",
    "Les 20 premières font 30 millisecondes, et la dernière est un peu plus courte."
   ]
  },
  {
   "cell_type": "markdown",
   "metadata": {},
   "source": [
    "### Utilisation de Scipy\n",
    "\n",
    "Evaluation toutes les 10ms avec une fenêtre de 30ms"
   ]
  },
  {
   "cell_type": "code",
   "execution_count": 55,
   "metadata": {},
   "outputs": [
    {
     "name": "stdout",
     "output_type": "stream",
     "text": [
      "48\n"
     ]
    }
   ],
   "source": [
    "[fs, a] = read(\"test3/stop.wav\")\n",
    "sig_in = np.array(a)\n",
    "\n",
    "nbytes_fen = fs * 0.03 # 480\n",
    "nbytes_pas = fs * 0.01 # 160\n",
    "\n",
    "#N = len(sig_in)/nbytes_pas\n",
    "\n",
    "signals = []\n",
    "\n",
    "for i in np.arange(0, len(sig_in), 160, dtype=int):\n",
    "    signals.append(sig_in[i:i+480])\n",
    "    \n",
    "print(len(signals))"
   ]
  },
  {
   "cell_type": "markdown",
   "metadata": {},
   "source": [
    "### Obtenir les coefficients à l' aide des signaux"
   ]
  },
  {
   "cell_type": "markdown",
   "metadata": {},
   "source": [
    "Phi function (estimateur de la fonction d'autocorrélation du signal)"
   ]
  },
  {
   "cell_type": "code",
   "execution_count": 56,
   "metadata": {},
   "outputs": [],
   "source": [
    "def phi(signal, k_ind):\n",
    "    # phi est un estimateur de la fonction d'autocorrélation du signal\n",
    "    N = len(signal)\n",
    "    somme = 0\n",
    "    for i in range(0, N - k_ind - 1):\n",
    "        somme += signal[i] * signal[i + k_ind]\n",
    "    return (somme/N)"
   ]
  },
  {
   "cell_type": "markdown",
   "metadata": {},
   "source": [
    "Algorithme pour un signal"
   ]
  },
  {
   "cell_type": "code",
   "execution_count": 57,
   "metadata": {},
   "outputs": [],
   "source": [
    "def params_signal(signal, K):\n",
    "\n",
    "    alpha = []\n",
    "    k = []\n",
    "    # a est un tableau de tableau (taille croissante)\n",
    "    a = []\n",
    "\n",
    "    alpha.append(phi(signal, 0))\n",
    "    if (phi(signal, 0) == 0):\n",
    "        if (phi(signal, 1) == 0):\n",
    "            k.append(0)\n",
    "        else:\n",
    "            print(\"Possible issue here\")\n",
    "            k.append(0)\n",
    "    else:\n",
    "        k.append(-phi(signal, 1) / phi(signal, 0))\n",
    "    a.append([-k[0]])\n",
    "\n",
    "    for n in range(1, K):\n",
    "        alpha_val = alpha[n-1] * (1 - (k[n-1]**2))\n",
    "        alpha.append(alpha_val)\n",
    "        sum_int = 0\n",
    "        for p in range(0, n):\n",
    "            sum_int += a[n-1][p] * phi(signal, n - p)\n",
    "        int_val = (phi(signal, n) - sum_int)\n",
    "        if (alpha_val == 0):\n",
    "            if (int_val == 0):\n",
    "                k.append(0)\n",
    "            else:\n",
    "                print(\"Possible issue here\")\n",
    "                k.append(0)\n",
    "        else:\n",
    "            k.append((-1/alpha_val) * int_val)\n",
    "        a_array = []\n",
    "        for q in range(0, n):\n",
    "            int_a_val = a[n-1][q] + k[n] * a[n-1][n-q-1]\n",
    "            a_array.append(int_a_val)\n",
    "        a_array.append( -k[n])\n",
    "        a.append(a_array)\n",
    "        \n",
    "    return (alpha, k, a)"
   ]
  },
  {
   "cell_type": "code",
   "execution_count": 58,
   "metadata": {},
   "outputs": [],
   "source": [
    "def dsp_calculation(signal, K, alpha, k, a, nu):\n",
    "    sum_sigma = 0\n",
    "    for i in range(0, K):\n",
    "        sum_sigma += a[K-1][i] * phi(signal, i)\n",
    "    sigma_e = phi(signal, 0) - sum_sigma\n",
    "    sum_den_dsp = 0\n",
    "    for j in range(0, K):\n",
    "        sum_den_dsp += a[K-1][j] * cmath.exp(2 * cmath.pi * nu * j * 1j)\n",
    "    den_dsp = (abs(1 - sum_den_dsp))**2\n",
    "    dsp = 0\n",
    "    if (den_dsp != 0 and sigma_e != 0):\n",
    "        dsp = sigma_e / den_dsp\n",
    "    return dsp"
   ]
  },
  {
   "cell_type": "code",
   "execution_count": 59,
   "metadata": {},
   "outputs": [
    {
     "name": "stderr",
     "output_type": "stream",
     "text": [
      "/usr/lib/python3/dist-packages/ipykernel_launcher.py:6: RuntimeWarning: overflow encountered in short_scalars\n",
      "  \n"
     ]
    },
    {
     "name": "stdout",
     "output_type": "stream",
     "text": [
      "[0.15423779652785158, 0.027610685228837244, 0.23603261918458004, -0.24303125999961278, 0.18565161935389657]\n",
      "[-0.10828679216141737, -0.33892721014178639, -0.62187936105630459, -0.088099089109719642, -0.46932505837061461]\n",
      "48\n",
      "80\n",
      "48\n",
      "80\n"
     ]
    },
    {
     "data": {
      "image/png": "[encoded data removed]",
      "text/plain": [
       "<matplotlib.figure.Figure at 0x7fa468d9b4e0>"
      ]
     },
     "metadata": {},
     "output_type": "display_data"
    }
   ],
   "source": [
    "K = 5\n",
    "\n",
    "alpha_arr = []\n",
    "k_arr = []\n",
    "a_arr = []\n",
    "dsp_arr = []\n",
    "\n",
    "# Il faut boucler sur tous les échantillons de notre son (rappel, on a pris des fenêtres de 30ms)\n",
    "for i in range(0, len(signals)):\n",
    "    [alpha, k, a] = params_signal(signals[i], K)\n",
    "    alpha_arr.append(alpha)\n",
    "    k_arr.append(k)\n",
    "    a_arr.append(a)\n",
    "    #nu = 1\n",
    "    dsp_int_arr = []\n",
    "    #dsp = dsp_calculation(signals[i], K, alpha, k, a, nu)\n",
    "    for j in range(0, 8000, 100):\n",
    "        dsp = dsp_calculation(signals[i], K, alpha, k, a, j)\n",
    "        dsp_int_arr.append(dsp)\n",
    "    dsp_arr.append(dsp_int_arr)\n",
    "    #dsp_arr.append(dsp)\n",
    "\n",
    "print(a_arr[5][4])\n",
    "print(a_arr[4][4])\n",
    "\n",
    "t = np.arange(0, 0.01 * len(signals), 0.01)\n",
    "f = range(0, 8000, 100)\n",
    "\n",
    "print(len(t))\n",
    "print(len(f))\n",
    "print(len(dsp_arr))\n",
    "print(len(dsp_arr[1]))\n",
    "\n",
    "# plt.pcolormesh(t, f, dsp_arr, vmin=0)\n",
    "plt.pcolormesh(f, t, dsp_arr) #Test\n",
    "plt.title('STFT Magnitude')\n",
    "plt.ylabel('Frequency [Hz]')\n",
    "plt.xlabel('Time [sec]')\n",
    "plt.show()"
   ]
  },
  {
   "cell_type": "markdown",
   "metadata": {},
   "source": [
    "### Obtenir les coefficients à l'aide de AudioLazy"
   ]
  },
  {
   "cell_type": "code",
   "execution_count": 60,
   "metadata": {},
   "outputs": [
    {
     "name": "stdout",
     "output_type": "stream",
     "text": [
      "1 - 0.389401 * z^-1 + 0.0770071 * z^-2 + 0.00365101 * z^-3 - 0.387686 * z^-4 + 1.15233 * z^-5\n",
      "[1, -0.38940084529590424, 0.07700710756903112, 0.003651006985461558, -0.38768609608201116, 1.1523301554527436]\n",
      "<class 'audiolazy.lazy_filters.ZFilter'>\n",
      "(-1.7925111515096805, -1.7172861365831122, -0.5513681909087943, -0.4107241115808784, 0.5513681909087943, 0.0, 1.7925111515096805, 0.4107241115808784, 3.1415926535897931, 1.7172861365831122, 3.1415926535897931, 3.1415926535897931)\n"
     ]
    },
    {
     "name": "stderr",
     "output_type": "stream",
     "text": [
      "/usr/local/lib/python3.5/dist-packages/audiolazy/lazy_analysis.py:307: RuntimeWarning: overflow encountered in short_scalars\n",
      "  return [sum(blk[n] * blk[n + tau] for n in xrange(len(blk) - tau))\n",
      "/usr/local/lib/python3.5/dist-packages/audiolazy/lazy_analysis.py:336: RuntimeWarning: overflow encountered in short_scalars\n",
      "  return [[sum(blk[n - i] * blk[n - j] for n in xrange(max_lag, len(blk))\n"
     ]
    },
    {
     "ename": "ValueError",
     "evalue": "Unstable filter",
     "output_type": "error",
     "traceback": [
      "\u001b[0;31m---------------------------------------------------------------------------\u001b[0m",
      "\u001b[0;31mValueError\u001b[0m                                Traceback (most recent call last)",
      "\u001b[0;32m<ipython-input-60-626fb6efa9d8>\u001b[0m in \u001b[0;36m<module>\u001b[0;34m()\u001b[0m\n\u001b[1;32m      9\u001b[0m \u001b[0mprint\u001b[0m\u001b[0;34m(\u001b[0m\u001b[0mlsf\u001b[0m\u001b[0;34m)\u001b[0m\u001b[0;34m\u001b[0m\u001b[0m\n\u001b[1;32m     10\u001b[0m \u001b[0;34m\u001b[0m\u001b[0m\n\u001b[0;32m---> 11\u001b[0;31m \u001b[0mfilt2\u001b[0m \u001b[0;34m=\u001b[0m \u001b[0mlpc\u001b[0m\u001b[0;34m.\u001b[0m\u001b[0mlpc\u001b[0m\u001b[0;34m.\u001b[0m\u001b[0mkcovar\u001b[0m\u001b[0;34m(\u001b[0m\u001b[0msignals\u001b[0m\u001b[0;34m[\u001b[0m\u001b[0;36m5\u001b[0m\u001b[0;34m]\u001b[0m\u001b[0;34m,\u001b[0m \u001b[0;36m5\u001b[0m\u001b[0;34m)\u001b[0m\u001b[0;34m\u001b[0m\u001b[0m\n\u001b[0m\u001b[1;32m     12\u001b[0m \u001b[0mprint\u001b[0m\u001b[0;34m(\u001b[0m\u001b[0mfilt2\u001b[0m\u001b[0;34m)\u001b[0m\u001b[0;34m\u001b[0m\u001b[0m\n",
      "\u001b[0;32m/usr/local/lib/python3.5/dist-packages/audiolazy/lazy_lpc.py\u001b[0m in \u001b[0;36mlpc\u001b[0;34m(blk, order)\u001b[0m\n\u001b[1;32m    328\u001b[0m       \u001b[0;32mraise\u001b[0m \u001b[0mZeroDivisionError\u001b[0m\u001b[0;34m(\u001b[0m\u001b[0;34m\"Can't find next coefficient\"\u001b[0m\u001b[0;34m)\u001b[0m\u001b[0;34m\u001b[0m\u001b[0m\n\u001b[1;32m    329\u001b[0m     \u001b[0;32mif\u001b[0m \u001b[0mk\u001b[0m \u001b[0;34m>=\u001b[0m \u001b[0;36m1\u001b[0m \u001b[0;32mor\u001b[0m \u001b[0mk\u001b[0m \u001b[0;34m<=\u001b[0m \u001b[0;34m-\u001b[0m\u001b[0;36m1\u001b[0m\u001b[0;34m:\u001b[0m\u001b[0;34m\u001b[0m\u001b[0m\n\u001b[0;32m--> 330\u001b[0;31m       \u001b[0;32mraise\u001b[0m \u001b[0mValueError\u001b[0m\u001b[0;34m(\u001b[0m\u001b[0;34m\"Unstable filter\"\u001b[0m\u001b[0;34m)\u001b[0m\u001b[0;34m\u001b[0m\u001b[0m\n\u001b[0m\u001b[1;32m    331\u001b[0m     \u001b[0mA\u001b[0m \u001b[0;34m+=\u001b[0m \u001b[0mk\u001b[0m \u001b[0;34m*\u001b[0m \u001b[0mB\u001b[0m\u001b[0;34m[\u001b[0m\u001b[0mm\u001b[0m \u001b[0;34m-\u001b[0m \u001b[0;36m1\u001b[0m\u001b[0;34m]\u001b[0m\u001b[0;34m\u001b[0m\u001b[0m\n\u001b[1;32m    332\u001b[0m \u001b[0;34m\u001b[0m\u001b[0m\n",
      "\u001b[0;31mValueError\u001b[0m: Unstable filter"
     ]
    }
   ],
   "source": [
    "from audiolazy import lazy_lpc as lpc\n",
    "\n",
    "filt = lpc.lpc.kautocor(signals[5], 5)\n",
    "\n",
    "print(filt)\n",
    "print(filt.numerator)\n",
    "print(type(filt))\n",
    "lsf = lpc.lsf(filt)\n",
    "print(lsf)\n",
    "\n",
    "filt2 = lpc.lpc.kcovar(signals[5], 5)\n",
    "print(filt2)"
   ]
  }
 ],
 "metadata": {
  "kernel_info": {
   "name": "python3"
  },
  "kernelspec": {
   "display_name": "Python 3",
   "language": "python",
   "name": "python3"
  },
  "language_info": {
   "codemirror_mode": {
    "name": "ipython",
    "version": 3
   },
   "file_extension": ".py",
   "mimetype": "text/x-python",
   "name": "python",
   "nbconvert_exporter": "python",
   "pygments_lexer": "ipython3",
   "version": "3.5.2"
  },
  "nteract": {
   "version": "0.3.4"
  }
 },
 "nbformat": 4,
 "nbformat_minor": 4
}
